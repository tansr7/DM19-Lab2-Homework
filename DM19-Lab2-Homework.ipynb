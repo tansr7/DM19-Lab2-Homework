{
 "cells": [
  {
   "cell_type": "markdown",
   "metadata": {
    "toc": true
   },
   "source": [
    "<h1>Table of Contents<span class=\"tocSkip\"></span></h1>\n",
    "<div class=\"toc\"><ul class=\"toc-item\"><li><ul class=\"toc-item\"><li><span><a href=\"#Student-Information\" data-toc-modified-id=\"Student-Information-0.1\">Student Information</a></span></li><li><span><a href=\"#Instructions\" data-toc-modified-id=\"Instructions-0.2\">Instructions</a></span></li></ul></li><li><span><a href=\"#Part-1\" data-toc-modified-id=\"Part-1-1\">Part 1</a></span><ul class=\"toc-item\"><li><span><a href=\"#&gt;&gt;&gt;-Exercise-1-(Take-home):\" data-toc-modified-id=\">>>-Exercise-1-(Take-home):-1.1\"><strong>&gt;&gt;&gt; Exercise 1 (Take home):</strong></a></span></li><li><span><a href=\"#&gt;&gt;&gt;-Exercise-2-(Take-home):\" data-toc-modified-id=\">>>-Exercise-2-(Take-home):-1.2\"><strong>&gt;&gt;&gt; Exercise 2 (Take home):</strong></a></span></li><li><span><a href=\"#&gt;&gt;&gt;-Exercise-3-(Take-home):\" data-toc-modified-id=\">>>-Exercise-3-(Take-home):-1.3\"><strong>&gt;&gt;&gt; Exercise 3 (Take home):</strong></a></span></li><li><span><a href=\"#&gt;&gt;&gt;-Exercise-4-(Take-home):\" data-toc-modified-id=\">>>-Exercise-4-(Take-home):-1.4\"><strong>&gt;&gt;&gt; Exercise 4 (Take home):</strong></a></span></li><li><span><a href=\"#&gt;&gt;&gt;-Exercise-5-(Take-home):\" data-toc-modified-id=\">>>-Exercise-5-(Take-home):-1.5\"><strong>&gt;&gt;&gt; Exercise 5 (Take home):</strong></a></span></li><li><span><a href=\"#&gt;&gt;&gt;-Exercise-6-(Take-home):\" data-toc-modified-id=\">>>-Exercise-6-(Take-home):-1.6\"><strong>&gt;&gt;&gt; Exercise 6 (Take home):</strong></a></span></li><li><span><a href=\"#&gt;&gt;&gt;-Exercise-7-(Take-home):\" data-toc-modified-id=\">>>-Exercise-7-(Take-home):-1.7\"><strong>&gt;&gt;&gt; Exercise 7 (Take home):</strong></a></span></li><li><span><a href=\"#&gt;&gt;&gt;-Exercise-8-(Take-home):\" data-toc-modified-id=\">>>-Exercise-8-(Take-home):-1.8\"><strong>&gt;&gt;&gt; Exercise 8 (Take home):</strong></a></span></li></ul></li><li><span><a href=\"#Part-2\" data-toc-modified-id=\"Part-2-2\">Part 2</a></span></li><li><span><a href=\"#Part-3\" data-toc-modified-id=\"Part-3-3\">Part 3</a></span><ul class=\"toc-item\"><li><span><a href=\"#Preprocessing-steps\" data-toc-modified-id=\"Preprocessing-steps-3.1\">Preprocessing steps</a></span></li><li><span><a href=\"#Feature-engineering-steps\" data-toc-modified-id=\"Feature-engineering-steps-3.2\">Feature engineering steps</a></span></li><li><span><a href=\"#Explanation-of-model\" data-toc-modified-id=\"Explanation-of-model-3.3\">Explanation of model</a></span></li><li><span><a href=\"#Different-things-you-tried\" data-toc-modified-id=\"Different-things-you-tried-3.4\">Different things you tried</a></span></li><li><span><a href=\"#Insights-gained\" data-toc-modified-id=\"Insights-gained-3.5\">Insights gained</a></span></li></ul></li><li><span><a href=\"#Part-4\" data-toc-modified-id=\"Part-4-4\">Part 4</a></span></li></ul></div>"
   ]
  },
  {
   "cell_type": "markdown",
   "metadata": {},
   "source": [
    "### Student Information\n",
    "Name: 陳聖融 Tan Sheng Rong\n",
    "\n",
    "Student ID: X1080017\n",
    "\n",
    "GitHub ID: @tansr7\n",
    "\n",
    "Kaggle name: @tansr7\n",
    "\n",
    "Kaggle private scoreboard snapshot: \n",
    "\n",
    "[Snapshot](img/pic0.png)"
   ]
  },
  {
   "cell_type": "markdown",
   "metadata": {},
   "source": [
    "---"
   ]
  },
  {
   "cell_type": "markdown",
   "metadata": {},
   "source": [
    "### Instructions"
   ]
  },
  {
   "cell_type": "markdown",
   "metadata": {},
   "source": [
    "1. First: __This part is worth 30% of your grade.__ Do the **take home** exercises in the [DM19-Lab2-Master Repo](https://github.com/EvaArevalo/DM19-Lab2-Master). You may need to copy some cells from the Lab notebook to this notebook. \n",
    "\n",
    "\n",
    "2. Second: __This part is worth 30% of your grade.__ Participate in the in-class [Kaggle Competition](https://www.kaggle.com/t/179d01d4dd984fc5ac45a894822479dd) regarding Emotion Recognition on Twitter. The scoring will be given according to your place in the Private Leaderboard ranking: \n",
    "    - **Bottom 40%**: Get 20% of the score (ie. 20% of 30% )\n",
    "\n",
    "    - **Top 41% - 100%**: Get (101-x)% of the score, where x is your ranking in the leaderboard (ie. (101-x)% of 30% )   \n",
    "    Submit your last submission __BEFORE the deadline (Nov. 23rd 11:59 pm, Saturday)__. Make sure to take a screenshot of your position at the end of the competition and store it as '''pic0.png''' under the **img** folder of this repository and rerun the cell **Student Information**.\n",
    "    \n",
    "\n",
    "3. Third: __This part is worth 30% of your grade.__ A report of your work developping the model for the competition (You can use code and comment it). This report should include what your preprocessing steps, the feature engineering steps and an explanation of your model. You can also mention different things you tried and insights you gained. \n",
    "\n",
    "\n",
    "4. Fourth: __This part is worth 10% of your grade.__ It's hard for us to follow if your code is messy :'(, so please **tidy up your notebook** and **add minimal comments where needed**.\n",
    "\n",
    "\n",
    "You can submit your homework following these guidelines: [Git Intro & How to hand your homework](https://github.com/EvaArevalo/DM19-Lab1-Master/blob/master/Git%20Intro%20%26%20How%20to%20hand%20your%20homework.ipynb), but make sure to fork the [DM19-Lab2-Homework](https://github.com/EvaArevalo/DM19-Lab2-Homework) repository this time! Also please __DON´T UPLOAD HUGE DOCUMENTS__, please use Git ignore for that.\n",
    "\n",
    "Make sure to commit and save your changes to your repository __BEFORE the deadline (Nov. 26th 11:59 pm, Tuesday)__. "
   ]
  },
  {
   "cell_type": "code",
   "execution_count": 21,
   "metadata": {},
   "outputs": [],
   "source": [
    "### Begin Assignment Here\n",
    "import pandas as pd\n",
    "import numpy as np\n",
    "import helpers.data_mining_helpers as dmh\n",
    "from collections import Counter\n",
    "from nltk.corpus import stopwords\n",
    "import operator\n",
    "import matplotlib.pyplot as plt\n",
    "import seaborn as sns\n",
    "import itertools\n",
    "from sklearn.manifold import TSNE\n",
    "import numpy as np\n",
    "# !pip install ujson\n",
    "# import ujson\n",
    "from pandas.io.json import json_normalize\n",
    "import nltk\n",
    "import keras\n",
    "from sklearn.feature_extraction.text import CountVectorizer\n",
    "from sklearn.metrics import accuracy_score"
   ]
  },
  {
   "cell_type": "markdown",
   "metadata": {},
   "source": [
    "## Part 1"
   ]
  },
  {
   "cell_type": "markdown",
   "metadata": {},
   "source": [
    "**Exercise 1 Preprocessing**"
   ]
  },
  {
   "cell_type": "code",
   "execution_count": 2,
   "metadata": {},
   "outputs": [],
   "source": [
    "### training data\n",
    "anger_train = pd.read_csv(\"data/semeval/train/anger-ratings-0to1.train.txt\",\n",
    "                         sep=\"\\t\", header=None,names=[\"id\", \"text\", \"emotion\", \"intensity\"])\n",
    "sadness_train = pd.read_csv(\"data/semeval/train/sadness-ratings-0to1.train.txt\",\n",
    "                         sep=\"\\t\", header=None, names=[\"id\", \"text\", \"emotion\", \"intensity\"])\n",
    "fear_train = pd.read_csv(\"data/semeval/train/fear-ratings-0to1.train.txt\",\n",
    "                         sep=\"\\t\", header=None, names=[\"id\", \"text\", \"emotion\", \"intensity\"])\n",
    "joy_train = pd.read_csv(\"data/semeval/train/joy-ratings-0to1.train.txt\",\n",
    "                         sep=\"\\t\", header=None, names=[\"id\", \"text\", \"emotion\", \"intensity\"])\n",
    "# combine 4 sub-dataset\n",
    "train_df = pd.concat([anger_train, fear_train, joy_train, sadness_train], ignore_index=True)\n",
    "### testing data\n",
    "anger_test = pd.read_csv(\"data/semeval/dev/anger-ratings-0to1.dev.gold.txt\",\n",
    "                         sep=\"\\t\", header=None, names=[\"id\", \"text\", \"emotion\", \"intensity\"])\n",
    "sadness_test = pd.read_csv(\"data/semeval/dev/sadness-ratings-0to1.dev.gold.txt\",\n",
    "                         sep=\"\\t\", header=None, names=[\"id\", \"text\", \"emotion\", \"intensity\"])\n",
    "fear_test = pd.read_csv(\"data/semeval/dev/fear-ratings-0to1.dev.gold.txt\",\n",
    "                         sep=\"\\t\", header=None, names=[\"id\", \"text\", \"emotion\", \"intensity\"])\n",
    "joy_test = pd.read_csv(\"data/semeval/dev/joy-ratings-0to1.dev.gold.txt\",\n",
    "                         sep=\"\\t\", header=None, names=[\"id\", \"text\", \"emotion\", \"intensity\"])\n",
    "# combine 4 sub-dataset\n",
    "test_df = pd.concat([anger_test, fear_test, joy_test, sadness_test], ignore_index=True)\n",
    "train_df.head()\n",
    "# shuffle dataset by doing a sample of 1 (which is the entire dataset). sampling shuffles data\n",
    "train_df = train_df.sample(frac=1) \n",
    "test_df = test_df.sample(frac=1)"
   ]
  },
  {
   "cell_type": "markdown",
   "metadata": {},
   "source": [
    "---\n",
    "### **>>> Exercise 1 (Take home):**  \n",
    "Plot word frequency for Top 30 words in both train and test dataset. (Hint: refer to DM lab 1)\n"
   ]
  },
  {
   "cell_type": "code",
   "execution_count": 3,
   "metadata": {},
   "outputs": [
    {
     "data": {
      "text/plain": [
       "<matplotlib.legend.Legend at 0x1a1af29710>"
      ]
     },
     "execution_count": 3,
     "metadata": {},
     "output_type": "execute_result"
    },
    {
     "data": {
      "image/png": "[encoded data removed]",
      "text/plain": [
       "<Figure size 1800x720 with 1 Axes>"
      ]
     },
     "metadata": {
      "needs_background": "light"
     },
     "output_type": "display_data"
    }
   ],
   "source": [
    "%matplotlib inline\n",
    "plt.rcParams['figure.figsize'] = [25, 10]\n",
    "df = train_df\n",
    "# takes a like a minute or two to process\n",
    "df['unigrams'] = df['text'].apply(lambda x: dmh.tokenize_text(x))\n",
    "df[0:4][\"unigrams\"]\n",
    "terms_flatten = [item.lower() for sublist in df.unigrams.values for item in sublist if item.isalpha()]\n",
    "term_count = Counter(terms_flatten)\n",
    "alpha_terms = {}\n",
    "for k,v in term_count.items():\n",
    "    if k not in stopwords.words('english'):\n",
    "        alpha_terms[k]=v\n",
    "sorted_t = sorted(alpha_terms.items(), key=lambda x: x[1], reverse=True)[:30]\n",
    "labels, word_len = [], []\n",
    "for l, w in sorted_t:\n",
    "    labels.append(l); word_len.append(w)   \n",
    "x = np.arange(len(labels))  # the label locations\n",
    "width = 0.35  # the width of the bars\n",
    "fig, ax = plt.subplots()\n",
    "rects1 = ax.bar(x - width/2, word_len, width, label='Men')\n",
    "ax.set_ylabel('Scores')\n",
    "ax.set_title('Scores by group and gender')\n",
    "ax.set_xticks(x)\n",
    "ax.set_xticklabels(labels)\n",
    "ax.legend()"
   ]
  },
  {
   "cell_type": "code",
   "execution_count": 4,
   "metadata": {},
   "outputs": [
    {
     "data": {
      "text/plain": [
       "<matplotlib.legend.Legend at 0x1a1a068350>"
      ]
     },
     "execution_count": 4,
     "metadata": {},
     "output_type": "execute_result"
    },
    {
     "data": {
      "image/png": "[encoded data removed]",
      "text/plain": [
       "<Figure size 1800x720 with 1 Axes>"
      ]
     },
     "metadata": {
      "needs_background": "light"
     },
     "output_type": "display_data"
    }
   ],
   "source": [
    "df = test_df\n",
    "df['unigrams'] = df['text'].apply(lambda x: dmh.tokenize_text(x))\n",
    "df[0:4][\"unigrams\"]\n",
    "terms_flatten = [item.lower() for sublist in df.unigrams.values for item in sublist if item.isalpha()]\n",
    "term_count = Counter(terms_flatten)\n",
    "alpha_terms = {}\n",
    "for k,v in term_count.items():\n",
    "    if k not in stopwords.words('english'):\n",
    "        alpha_terms[k]=v\n",
    "sorted_t = sorted(alpha_terms.items(), key=lambda x: x[1], reverse=True)[:30]\n",
    "labels, word_len = [], []\n",
    "for l, w in sorted_t:\n",
    "    labels.append(l); word_len.append(w)\n",
    "x = np.arange(len(labels))  # the label locations\n",
    "width = 0.35  # the width of the bars\n",
    "fig, ax = plt.subplots()\n",
    "rects1 = ax.bar(x - width/2, word_len, width, label='Men')\n",
    "ax.set_ylabel('Scores')\n",
    "ax.set_title('Scores by group and gender')\n",
    "ax.set_xticks(x)\n",
    "ax.set_xticklabels(labels)\n",
    "ax.legend()"
   ]
  },
  {
   "cell_type": "markdown",
   "metadata": {},
   "source": [
    "---\n",
    "###  **>>> Exercise 2 (Take home):**  \n",
    "Generate an embedding using the TF-IDF vectorizer instead of the BOW one with 1000 features and show the feature names for features [100:110]."
   ]
  },
  {
   "cell_type": "code",
   "execution_count": 5,
   "metadata": {},
   "outputs": [
    {
     "name": "stdout",
     "output_type": "stream",
     "text": [
      "['bitter', 'black', 'blacks', 'blame', 'blessed', 'blood', 'bloody', 'blues', 'body', 'boiling']\n"
     ]
    }
   ],
   "source": [
    "# Answer here\n",
    "from sklearn.feature_extraction.text import TfidfVectorizer\n",
    "tfidf_vectorizer = TfidfVectorizer(max_features=1000)\n",
    "vectorizer_count = tfidf_vectorizer.fit_transform(train_df['text'])\n",
    "print(tfidf_vectorizer.get_feature_names()[100:110])"
   ]
  },
  {
   "cell_type": "markdown",
   "metadata": {},
   "source": [
    "---\n",
    "### **>>> Exercise 3 (Take home):**  \n",
    "\n",
    "Can you interpret the results above? What do they mean?"
   ]
  },
  {
   "cell_type": "markdown",
   "metadata": {},
   "source": [
    "The darker the color, the larger the value. \n",
    "The elements that lie on the diagonal of the confusion matrix are are the **True Positive (TP)** where the **Predicted Class** is the same as the **Actual Class**. They are elements that have the darkest shade. \n",
    "\n",
    "To be precise, the total number of True Positive for \"Anger\" is `55`, \"Fear\" is `70`, \"Joy\" is `54`, \"Sadness\" is `42`.\n",
    "\n",
    "**Special rules of a Confusion Matrix for multiple classes**\n",
    "> - the total number of False Negative (FN) is the sum of values in the corresponding column (excluding the TP)\n",
    "- the total number of False Positive (FP) is the sum of values in the corresponding row (excluding the TP)\n",
    "- the total number of True Negative (TN) for a certain class will be the sum of all columns and rows excluding that class's column and row\n",
    "\n",
    "Let us select \"Anger\" as the class which we are concerned about. \n",
    "\n",
    "The FN for \"Anger\" is `15+5+9 = 29`\n",
    "\n",
    "The FP for \"Anger\" is `16+9+4 = 29`\n",
    "\n",
    "The TN for \"Anger\" is `70+9+16+13+54+7+14+9+42 = 234`"
   ]
  },
  {
   "cell_type": "markdown",
   "metadata": {},
   "source": [
    "**Exercise 4 Preprocessing**"
   ]
  },
  {
   "cell_type": "code",
   "execution_count": 6,
   "metadata": {},
   "outputs": [
    {
     "name": "stdout",
     "output_type": "stream",
     "text": [
      "X_train.shape:  (3613, 500)\n",
      "y_train.shape:  (3613,)\n",
      "X_test.shape:  (347, 500)\n",
      "y_test.shape:  (347,)\n"
     ]
    },
    {
     "data": {
      "text/plain": [
       "array(['fear', 'sadness', 'sadness', 'fear', 'anger', 'joy', 'sadness',\n",
       "       'joy', 'sadness', 'joy'], dtype=object)"
      ]
     },
     "execution_count": 6,
     "metadata": {},
     "output_type": "execute_result"
    }
   ],
   "source": [
    "# Funciton for visualizing confusion_matrix\n",
    "def plot_confusion_matrix(cm, classes, title='Confusion matrix',\n",
    "                          cmap=sns.cubehelix_palette(as_cmap=True)):\n",
    "    \"\"\"\n",
    "    This function is modified from: \n",
    "    http://scikit-learn.org/stable/auto_examples/model_selection/plot_confusion_matrix.html\n",
    "    \"\"\"\n",
    "    classes.sort()\n",
    "    tick_marks = np.arange(len(classes))    \n",
    "    \n",
    "    fig, ax = plt.subplots(figsize=(5,5))\n",
    "    im = ax.imshow(cm, interpolation='nearest', cmap=cmap)\n",
    "    ax.figure.colorbar(im, ax=ax)\n",
    "    ax.set(xticks=np.arange(cm.shape[1]),\n",
    "           yticks=np.arange(cm.shape[0]),\n",
    "           xticklabels = classes,\n",
    "           yticklabels = classes,\n",
    "           title = title,\n",
    "           xlabel = 'True label',\n",
    "           ylabel = 'Predicted label')\n",
    "\n",
    "    fmt = 'd'\n",
    "    thresh = cm.max() / 2.\n",
    "    for i, j in itertools.product(range(cm.shape[0]), range(cm.shape[1])):\n",
    "        plt.text(j, i, format(cm[i, j], fmt), horizontalalignment=\"center\", color=\"white\" if cm[i, j] > thresh else \"black\")\n",
    "    ylim_top = len(classes) - 0.5\n",
    "    plt.ylim([ylim_top, -.5])\n",
    "    plt.tight_layout()\n",
    "    plt.show()\n",
    "\n",
    "from sklearn.feature_extraction.text import CountVectorizer\n",
    "\n",
    "# build analyzers (bag-of-words)\n",
    "BOW_vectorizer = CountVectorizer() \n",
    "\n",
    "import nltk\n",
    "\n",
    "# build analyzers (bag-of-words)\n",
    "BOW_500 = CountVectorizer(max_features=500, tokenizer=nltk.word_tokenize) \n",
    "\n",
    "# apply analyzer to training data\n",
    "BOW_500.fit(train_df['text'])\n",
    "\n",
    "train_data_BOW_features_500 = BOW_500.transform(train_df['text'])\n",
    "\n",
    "## check dimension\n",
    "train_data_BOW_features_500.shape\n",
    "\n",
    "from sklearn.tree import DecisionTreeClassifier\n",
    "\n",
    "# for a classificaiton problem, you need to provide both training & testing data\n",
    "X_train = BOW_500.transform(train_df['text'])\n",
    "y_train = train_df['emotion']\n",
    "\n",
    "X_test = BOW_500.transform(test_df['text'])\n",
    "y_test = test_df['emotion']\n",
    "\n",
    "## take a look at data dimension is a good habbit  :)\n",
    "print('X_train.shape: ', X_train.shape)\n",
    "print('y_train.shape: ', y_train.shape)\n",
    "print('X_test.shape: ', X_test.shape)\n",
    "print('y_test.shape: ', y_test.shape)\n",
    "\n",
    "## build DecisionTree model\n",
    "DT_model = DecisionTreeClassifier(random_state=0)\n",
    "\n",
    "## training!\n",
    "DT_model = DT_model.fit(X_train, y_train)\n",
    "\n",
    "## predict!\n",
    "y_train_pred = DT_model.predict(X_train)\n",
    "y_test_pred = DT_model.predict(X_test)\n",
    "\n",
    "## so we get the pred result\n",
    "y_test_pred[:10]"
   ]
  },
  {
   "cell_type": "markdown",
   "metadata": {},
   "source": [
    "---\n",
    "### **>>> Exercise 4 (Take home):**  \n",
    "Build a model using a ```Naive Bayes``` model and train it. What are the testing results? \n",
    "\n",
    "*Reference*: https://scikit-learn.org/stable/modules/generated/sklearn.naive_bayes.MultinomialNB.html"
   ]
  },
  {
   "cell_type": "code",
   "execution_count": 7,
   "metadata": {},
   "outputs": [
    {
     "data": {
      "text/plain": [
       "array(['fear', 'sadness', 'joy', 'fear', 'anger', 'joy', 'sadness', 'joy',\n",
       "       'sadness', 'joy'], dtype='<U7')"
      ]
     },
     "execution_count": 7,
     "metadata": {},
     "output_type": "execute_result"
    }
   ],
   "source": [
    "# Answer here\n",
    "from sklearn.naive_bayes import MultinomialNB\n",
    "\n",
    "## build Maive Bayes model\n",
    "clf = MultinomialNB()\n",
    "\n",
    "## training!\n",
    "NB_model = clf.fit(X_train, y_train)\n",
    "\n",
    "## predict!\n",
    "y_train_pred = NB_model.predict(X_train)\n",
    "y_test_pred = NB_model.predict(X_test)\n",
    "\n",
    "## so we get the pred result\n",
    "y_test_pred[:10]"
   ]
  },
  {
   "cell_type": "code",
   "execution_count": 8,
   "metadata": {},
   "outputs": [
    {
     "name": "stdout",
     "output_type": "stream",
     "text": [
      "training accuracy: 0.79\n",
      "testing accuracy: 0.72\n"
     ]
    }
   ],
   "source": [
    "## accuracy\n",
    "from sklearn.metrics import accuracy_score\n",
    "\n",
    "acc_train = accuracy_score(y_true=y_train, y_pred=y_train_pred)\n",
    "acc_test = accuracy_score(y_true=y_test, y_pred=y_test_pred)\n",
    "\n",
    "print('training accuracy: {}'.format(round(acc_train, 2)))\n",
    "print('testing accuracy: {}'.format(round(acc_test, 2)))"
   ]
  },
  {
   "cell_type": "code",
   "execution_count": 9,
   "metadata": {},
   "outputs": [
    {
     "name": "stdout",
     "output_type": "stream",
     "text": [
      "              precision    recall  f1-score   support\n",
      "\n",
      "       anger       0.71      0.65      0.68        84\n",
      "        fear       0.74      0.83      0.78       110\n",
      "         joy       0.76      0.71      0.73        79\n",
      "     sadness       0.65      0.64      0.64        74\n",
      "\n",
      "    accuracy                           0.72       347\n",
      "   macro avg       0.71      0.71      0.71       347\n",
      "weighted avg       0.72      0.72      0.72       347\n",
      "\n"
     ]
    }
   ],
   "source": [
    "## precision, recall, f1-score,\n",
    "from sklearn.metrics import classification_report\n",
    "\n",
    "print(classification_report(y_true=y_test, y_pred=y_test_pred))"
   ]
  },
  {
   "cell_type": "code",
   "execution_count": 10,
   "metadata": {},
   "outputs": [
    {
     "name": "stdout",
     "output_type": "stream",
     "text": [
      "[[55 14  5 10]\n",
      " [ 6 91  5  8]\n",
      " [ 9  7 56  7]\n",
      " [ 8 11  8 47]]\n"
     ]
    }
   ],
   "source": [
    "## check by confusion matrix\n",
    "from sklearn.metrics import confusion_matrix\n",
    "\n",
    "cm = confusion_matrix(y_true=y_test, y_pred=y_test_pred) \n",
    "print(cm)"
   ]
  },
  {
   "cell_type": "code",
   "execution_count": 11,
   "metadata": {},
   "outputs": [
    {
     "data": {
      "image/png": "[encoded data removed]",
      "text/plain": [
       "<Figure size 360x360 with 2 Axes>"
      ]
     },
     "metadata": {
      "needs_background": "light"
     },
     "output_type": "display_data"
    }
   ],
   "source": [
    "# plot your confusion matrix\n",
    "my_tags = ['anger', 'fear', 'joy', 'sadness']\n",
    "plot_confusion_matrix(cm, classes=my_tags, title='Confusion matrix')"
   ]
  },
  {
   "cell_type": "markdown",
   "metadata": {},
   "source": [
    "---\n",
    "### **>>> Exercise 5 (Take home):**  \n",
    "\n",
    "How do the results from the Naive Bayes model and the Decision Tree model compare? How do you interpret these differences? Use the theoretical background covered in class to try and explain these differences."
   ]
  },
  {
   "cell_type": "markdown",
   "metadata": {},
   "source": [
    "> How do the results from the Naive Bayes model and the Decision Tree model compare?\n",
    "1. The training accuracy for the Decision Tree is higher than the Naive Bayes model\n",
    "2. The testing accuracy for the Decision Tree is lower than the Naive Bayes model\n",
    "\n",
    "> How do you interpret these differences?\n",
    "- 1a. A Decision Tree's training accuracy will be very close to 1 as the downside of this model is designed to perfectly fit all samples in the training data set. \n",
    "- 1b. Conversely, Naive Bayes model utilises a Simple (linear) hypothesis function. It suffers from high bias, or error resulting from inaccuracies in its hypothesis class, because its hypothesis function is so simple it cannot accurately represent many complex situations. \n",
    "- 2a. The testing accuracy for the Decision Tree is lower than the Naive Bayes model. The Decision Tree model is designed to perfectly fit all samples in the training data set. Thus it ends up with branches with strict rules of sparse data. Thus this effects the accuracy when predicting samples that are not part of the training set is lower as compared to a Naive Bayes model. \n",
    "- 2b. On the other hand, Naive Bayes model exhibits low variance, or failure to generalize to unseen data based on its training set, because it's hypothesis class' simplicity prevents it from overfitting to its training data. Therefore, the accuracy is never exceedingly high. "
   ]
  },
  {
   "cell_type": "markdown",
   "metadata": {},
   "source": [
    "**Exercise 6 Preprocessing**"
   ]
  },
  {
   "cell_type": "code",
   "execution_count": 12,
   "metadata": {},
   "outputs": [
    {
     "name": "stderr",
     "output_type": "stream",
     "text": [
      "Using TensorFlow backend.\n",
      "/Users/stan170/anaconda3/envs/data_mining/lib/python3.7/site-packages/tensorflow/python/framework/dtypes.py:516: FutureWarning: Passing (type, 1) or '1type' as a synonym of type is deprecated; in a future version of numpy, it will be understood as (type, (1,)) / '(1,)type'.\n",
      "  _np_qint8 = np.dtype([(\"qint8\", np.int8, 1)])\n",
      "/Users/stan170/anaconda3/envs/data_mining/lib/python3.7/site-packages/tensorflow/python/framework/dtypes.py:517: FutureWarning: Passing (type, 1) or '1type' as a synonym of type is deprecated; in a future version of numpy, it will be understood as (type, (1,)) / '(1,)type'.\n",
      "  _np_quint8 = np.dtype([(\"quint8\", np.uint8, 1)])\n",
      "/Users/stan170/anaconda3/envs/data_mining/lib/python3.7/site-packages/tensorflow/python/framework/dtypes.py:518: FutureWarning: Passing (type, 1) or '1type' as a synonym of type is deprecated; in a future version of numpy, it will be understood as (type, (1,)) / '(1,)type'.\n",
      "  _np_qint16 = np.dtype([(\"qint16\", np.int16, 1)])\n",
      "/Users/stan170/anaconda3/envs/data_mining/lib/python3.7/site-packages/tensorflow/python/framework/dtypes.py:519: FutureWarning: Passing (type, 1) or '1type' as a synonym of type is deprecated; in a future version of numpy, it will be understood as (type, (1,)) / '(1,)type'.\n",
      "  _np_quint16 = np.dtype([(\"quint16\", np.uint16, 1)])\n",
      "/Users/stan170/anaconda3/envs/data_mining/lib/python3.7/site-packages/tensorflow/python/framework/dtypes.py:520: FutureWarning: Passing (type, 1) or '1type' as a synonym of type is deprecated; in a future version of numpy, it will be understood as (type, (1,)) / '(1,)type'.\n",
      "  _np_qint32 = np.dtype([(\"qint32\", np.int32, 1)])\n",
      "/Users/stan170/anaconda3/envs/data_mining/lib/python3.7/site-packages/tensorflow/python/framework/dtypes.py:525: FutureWarning: Passing (type, 1) or '1type' as a synonym of type is deprecated; in a future version of numpy, it will be understood as (type, (1,)) / '(1,)type'.\n",
      "  np_resource = np.dtype([(\"resource\", np.ubyte, 1)])\n",
      "/Users/stan170/anaconda3/envs/data_mining/lib/python3.7/site-packages/tensorboard/compat/tensorflow_stub/dtypes.py:541: FutureWarning: Passing (type, 1) or '1type' as a synonym of type is deprecated; in a future version of numpy, it will be understood as (type, (1,)) / '(1,)type'.\n",
      "  _np_qint8 = np.dtype([(\"qint8\", np.int8, 1)])\n",
      "/Users/stan170/anaconda3/envs/data_mining/lib/python3.7/site-packages/tensorboard/compat/tensorflow_stub/dtypes.py:542: FutureWarning: Passing (type, 1) or '1type' as a synonym of type is deprecated; in a future version of numpy, it will be understood as (type, (1,)) / '(1,)type'.\n",
      "  _np_quint8 = np.dtype([(\"quint8\", np.uint8, 1)])\n",
      "/Users/stan170/anaconda3/envs/data_mining/lib/python3.7/site-packages/tensorboard/compat/tensorflow_stub/dtypes.py:543: FutureWarning: Passing (type, 1) or '1type' as a synonym of type is deprecated; in a future version of numpy, it will be understood as (type, (1,)) / '(1,)type'.\n",
      "  _np_qint16 = np.dtype([(\"qint16\", np.int16, 1)])\n",
      "/Users/stan170/anaconda3/envs/data_mining/lib/python3.7/site-packages/tensorboard/compat/tensorflow_stub/dtypes.py:544: FutureWarning: Passing (type, 1) or '1type' as a synonym of type is deprecated; in a future version of numpy, it will be understood as (type, (1,)) / '(1,)type'.\n",
      "  _np_quint16 = np.dtype([(\"quint16\", np.uint16, 1)])\n",
      "/Users/stan170/anaconda3/envs/data_mining/lib/python3.7/site-packages/tensorboard/compat/tensorflow_stub/dtypes.py:545: FutureWarning: Passing (type, 1) or '1type' as a synonym of type is deprecated; in a future version of numpy, it will be understood as (type, (1,)) / '(1,)type'.\n",
      "  _np_qint32 = np.dtype([(\"qint32\", np.int32, 1)])\n",
      "/Users/stan170/anaconda3/envs/data_mining/lib/python3.7/site-packages/tensorboard/compat/tensorflow_stub/dtypes.py:550: FutureWarning: Passing (type, 1) or '1type' as a synonym of type is deprecated; in a future version of numpy, it will be understood as (type, (1,)) / '(1,)type'.\n",
      "  np_resource = np.dtype([(\"resource\", np.ubyte, 1)])\n"
     ]
    },
    {
     "name": "stdout",
     "output_type": "stream",
     "text": [
      "X_train.shape:  (3613, 500)\n",
      "y_train.shape:  (3613,)\n",
      "X_test.shape:  (347, 500)\n",
      "y_test.shape:  (347,)\n",
      "check label:  ['anger' 'fear' 'joy' 'sadness']\n",
      "\n",
      "## Before convert\n",
      "y_train[0:4]:\n",
      " 2598        joy\n",
      "3137    sadness\n",
      "1660       fear\n",
      "1233       fear\n",
      "Name: emotion, dtype: object\n",
      "\n",
      "y_train.shape:  (3613,)\n",
      "y_test.shape:  (347,)\n",
      "\n",
      "\n",
      "## After convert\n",
      "y_train[0:4]:\n",
      " [[0. 0. 1. 0.]\n",
      " [0. 0. 0. 1.]\n",
      " [0. 1. 0. 0.]\n",
      " [0. 1. 0. 0.]]\n",
      "\n",
      "y_train.shape:  (3613, 4)\n",
      "y_test.shape:  (347, 4)\n",
      "input_shape:  500\n",
      "output_shape:  4\n",
      "WARNING:tensorflow:From /Users/stan170/anaconda3/envs/data_mining/lib/python3.7/site-packages/keras/backend/tensorflow_backend.py:74: The name tf.get_default_graph is deprecated. Please use tf.compat.v1.get_default_graph instead.\n",
      "\n",
      "WARNING:tensorflow:From /Users/stan170/anaconda3/envs/data_mining/lib/python3.7/site-packages/keras/backend/tensorflow_backend.py:517: The name tf.placeholder is deprecated. Please use tf.compat.v1.placeholder instead.\n",
      "\n",
      "WARNING:tensorflow:From /Users/stan170/anaconda3/envs/data_mining/lib/python3.7/site-packages/keras/backend/tensorflow_backend.py:4138: The name tf.random_uniform is deprecated. Please use tf.random.uniform instead.\n",
      "\n",
      "WARNING:tensorflow:From /Users/stan170/anaconda3/envs/data_mining/lib/python3.7/site-packages/keras/optimizers.py:790: The name tf.train.Optimizer is deprecated. Please use tf.compat.v1.train.Optimizer instead.\n",
      "\n",
      "WARNING:tensorflow:From /Users/stan170/anaconda3/envs/data_mining/lib/python3.7/site-packages/keras/backend/tensorflow_backend.py:3295: The name tf.log is deprecated. Please use tf.math.log instead.\n",
      "\n",
      "_________________________________________________________________\n",
      "Layer (type)                 Output Shape              Param #   \n",
      "=================================================================\n",
      "input_1 (InputLayer)         (None, 500)               0         \n",
      "_________________________________________________________________\n",
      "dense_1 (Dense)              (None, 64)                32064     \n",
      "_________________________________________________________________\n",
      "re_lu_1 (ReLU)               (None, 64)                0         \n",
      "_________________________________________________________________\n",
      "dense_2 (Dense)              (None, 64)                4160      \n",
      "_________________________________________________________________\n",
      "re_lu_2 (ReLU)               (None, 64)                0         \n",
      "_________________________________________________________________\n",
      "dense_3 (Dense)              (None, 4)                 260       \n",
      "_________________________________________________________________\n",
      "softmax_1 (Softmax)          (None, 4)                 0         \n",
      "=================================================================\n",
      "Total params: 36,484\n",
      "Trainable params: 36,484\n",
      "Non-trainable params: 0\n",
      "_________________________________________________________________\n",
      "WARNING:tensorflow:From /Users/stan170/anaconda3/envs/data_mining/lib/python3.7/site-packages/tensorflow/python/ops/math_grad.py:1250: add_dispatch_support.<locals>.wrapper (from tensorflow.python.ops.array_ops) is deprecated and will be removed in a future version.\n",
      "Instructions for updating:\n",
      "Use tf.where in 2.0, which has the same broadcast rule as np.where\n",
      "WARNING:tensorflow:From /Users/stan170/anaconda3/envs/data_mining/lib/python3.7/site-packages/keras/backend/tensorflow_backend.py:986: The name tf.assign_add is deprecated. Please use tf.compat.v1.assign_add instead.\n",
      "\n",
      "Train on 3613 samples, validate on 347 samples\n",
      "Epoch 1/25\n",
      "3613/3613 [==============================] - 1s 407us/step - loss: 1.3392 - acc: 0.3515 - val_loss: 1.3014 - val_acc: 0.3890\n",
      "Epoch 2/25\n",
      "3613/3613 [==============================] - 0s 128us/step - loss: 1.0227 - acc: 0.6319 - val_loss: 0.9192 - val_acc: 0.6916\n",
      "Epoch 3/25\n",
      "3613/3613 [==============================] - 0s 117us/step - loss: 0.5842 - acc: 0.7991 - val_loss: 0.7515 - val_acc: 0.7118\n",
      "Epoch 4/25\n",
      "3613/3613 [==============================] - 0s 115us/step - loss: 0.4052 - acc: 0.8525 - val_loss: 0.7364 - val_acc: 0.7176\n",
      "Epoch 5/25\n",
      "3613/3613 [==============================] - 0s 114us/step - loss: 0.3225 - acc: 0.8846 - val_loss: 0.7797 - val_acc: 0.6916\n",
      "Epoch 6/25\n",
      "3613/3613 [==============================] - 0s 116us/step - loss: 0.2585 - acc: 0.9150 - val_loss: 0.8344 - val_acc: 0.7233\n",
      "Epoch 7/25\n",
      "3613/3613 [==============================] - 0s 115us/step - loss: 0.2142 - acc: 0.9275 - val_loss: 0.9111 - val_acc: 0.7089\n",
      "Epoch 8/25\n",
      "3613/3613 [==============================] - 0s 114us/step - loss: 0.1797 - acc: 0.9422 - val_loss: 0.9570 - val_acc: 0.6801\n",
      "Epoch 9/25\n",
      "3613/3613 [==============================] - 0s 115us/step - loss: 0.1599 - acc: 0.9510 - val_loss: 0.9937 - val_acc: 0.7032\n",
      "Epoch 10/25\n",
      "3613/3613 [==============================] - 0s 115us/step - loss: 0.1353 - acc: 0.9571 - val_loss: 1.0564 - val_acc: 0.7003\n",
      "Epoch 11/25\n",
      "3613/3613 [==============================] - 0s 114us/step - loss: 0.1243 - acc: 0.9637 - val_loss: 1.1219 - val_acc: 0.6916\n",
      "Epoch 12/25\n",
      "3613/3613 [==============================] - 0s 114us/step - loss: 0.1135 - acc: 0.9648 - val_loss: 1.1455 - val_acc: 0.6888\n",
      "Epoch 13/25\n",
      "3613/3613 [==============================] - 0s 115us/step - loss: 0.1011 - acc: 0.9682 - val_loss: 1.1554 - val_acc: 0.6945\n",
      "Epoch 14/25\n",
      "3613/3613 [==============================] - 0s 114us/step - loss: 0.0912 - acc: 0.9732 - val_loss: 1.2802 - val_acc: 0.6801\n",
      "Epoch 15/25\n",
      "3613/3613 [==============================] - 0s 115us/step - loss: 0.0884 - acc: 0.9726 - val_loss: 1.2611 - val_acc: 0.6974\n",
      "Epoch 16/25\n",
      "3613/3613 [==============================] - 0s 115us/step - loss: 0.0886 - acc: 0.9718 - val_loss: 1.3345 - val_acc: 0.6916\n",
      "Epoch 17/25\n",
      "3613/3613 [==============================] - 0s 115us/step - loss: 0.0827 - acc: 0.9740 - val_loss: 1.3510 - val_acc: 0.6888\n",
      "Epoch 18/25\n",
      "3613/3613 [==============================] - 0s 115us/step - loss: 0.0793 - acc: 0.9751 - val_loss: 1.3330 - val_acc: 0.6916\n",
      "Epoch 19/25\n",
      "3613/3613 [==============================] - 0s 115us/step - loss: 0.0723 - acc: 0.9754 - val_loss: 1.4045 - val_acc: 0.6744\n",
      "Epoch 20/25\n",
      "3613/3613 [==============================] - 0s 137us/step - loss: 0.0681 - acc: 0.9765 - val_loss: 1.4015 - val_acc: 0.6772\n",
      "Epoch 21/25\n",
      "3613/3613 [==============================] - 0s 118us/step - loss: 0.0706 - acc: 0.9748 - val_loss: 1.4792 - val_acc: 0.6686\n",
      "Epoch 22/25\n",
      "3613/3613 [==============================] - 0s 115us/step - loss: 0.0634 - acc: 0.9784 - val_loss: 1.4432 - val_acc: 0.6859\n",
      "Epoch 23/25\n",
      "3613/3613 [==============================] - 0s 115us/step - loss: 0.0678 - acc: 0.9776 - val_loss: 1.4728 - val_acc: 0.6772\n",
      "Epoch 24/25\n",
      "3613/3613 [==============================] - 0s 115us/step - loss: 0.0638 - acc: 0.9781 - val_loss: 1.5196 - val_acc: 0.6686\n",
      "Epoch 25/25\n",
      "3613/3613 [==============================] - 0s 115us/step - loss: 0.0616 - acc: 0.9765 - val_loss: 1.4616 - val_acc: 0.6888\n",
      "training finish\n"
     ]
    }
   ],
   "source": [
    "import keras\n",
    "\n",
    "# standardize name (X, y) \n",
    "X_train = BOW_500.transform(train_df['text'])\n",
    "y_train = train_df['emotion']\n",
    "\n",
    "X_test = BOW_500.transform(test_df['text'])\n",
    "y_test = test_df['emotion']\n",
    "\n",
    "## check dimension is a good habbit \n",
    "print('X_train.shape: ', X_train.shape)\n",
    "print('y_train.shape: ', y_train.shape)\n",
    "print('X_test.shape: ', X_test.shape)\n",
    "print('y_test.shape: ', y_test.shape)\n",
    "\n",
    "## deal with label (string -> one-hot)\n",
    "\n",
    "from sklearn.preprocessing import LabelEncoder\n",
    "\n",
    "label_encoder = LabelEncoder()\n",
    "label_encoder.fit(y_train)\n",
    "print('check label: ', label_encoder.classes_)\n",
    "print('\\n## Before convert')\n",
    "print('y_train[0:4]:\\n', y_train[0:4])\n",
    "print('\\ny_train.shape: ', y_train.shape)\n",
    "print('y_test.shape: ', y_test.shape)\n",
    "\n",
    "def label_encode(le, labels):\n",
    "    enc = le.transform(labels)\n",
    "    return keras.utils.to_categorical(enc)\n",
    "\n",
    "def label_decode(le, one_hot_label):\n",
    "    dec = np.argmax(one_hot_label, axis=1)\n",
    "    return le.inverse_transform(dec)\n",
    "\n",
    "y_train = label_encode(label_encoder, y_train)\n",
    "y_test = label_encode(label_encoder, y_test)\n",
    "\n",
    "print('\\n\\n## After convert')\n",
    "print('y_train[0:4]:\\n', y_train[0:4])\n",
    "print('\\ny_train.shape: ', y_train.shape)\n",
    "print('y_test.shape: ', y_test.shape)\n",
    "\n",
    "\n",
    "# I/O check\n",
    "input_shape = X_train.shape[1]\n",
    "print('input_shape: ', input_shape)\n",
    "\n",
    "output_shape = len(label_encoder.classes_)\n",
    "print('output_shape: ', output_shape)\n",
    "\n",
    "from keras.models import Model\n",
    "from keras.layers import Input, Dense\n",
    "from keras.layers import ReLU, Softmax\n",
    "\n",
    "# input layer\n",
    "model_input = Input(shape=(input_shape, ))  # 500\n",
    "X = model_input\n",
    "\n",
    "# 1st hidden layer\n",
    "X_W1 = Dense(units=64)(X)  # 64\n",
    "H1 = ReLU()(X_W1)\n",
    "\n",
    "# 2nd hidden layer\n",
    "H1_W2 = Dense(units=64)(H1)  # 64\n",
    "H2 = ReLU()(H1_W2)\n",
    "\n",
    "# output layer\n",
    "H2_W3 = Dense(units=output_shape)(H2)  # 4\n",
    "H3 = Softmax()(H2_W3)\n",
    "\n",
    "model_output = H3\n",
    "\n",
    "# create model\n",
    "model = Model(inputs=[model_input], outputs=[model_output])\n",
    "\n",
    "# loss function & optimizer\n",
    "model.compile(optimizer='adam',\n",
    "              loss='categorical_crossentropy',\n",
    "              metrics=['accuracy'])\n",
    "\n",
    "# show model construction\n",
    "model.summary()\n",
    "\n",
    "from keras.callbacks import CSVLogger\n",
    "\n",
    "csv_logger = CSVLogger('logs/training_log.csv')\n",
    "\n",
    "# training setting\n",
    "epochs = 25\n",
    "batch_size = 32\n",
    "\n",
    "# training!\n",
    "history = model.fit(X_train, y_train, \n",
    "                    epochs=epochs, \n",
    "                    batch_size=batch_size, \n",
    "                    callbacks=[csv_logger],\n",
    "                    validation_data = (X_test, y_test))\n",
    "print('training finish')\n",
    "\n",
    "## predict\n",
    "pred_result = model.predict(X_test, batch_size=128)\n",
    "\n",
    "pred_result = label_decode(label_encoder, pred_result)\n",
    "\n",
    "#Let's take a look at the training log\n",
    "training_log = pd.DataFrame()\n",
    "training_log = pd.read_csv(\"logs/training_log.csv\")"
   ]
  },
  {
   "cell_type": "markdown",
   "metadata": {},
   "source": [
    "---\n",
    "### **>>> Exercise 6 (Take home):**  \n",
    "\n",
    "Plot the Training and Validation Accuracy and Loss (different plots), just like the images below (Note: the pictures below are an example from a different model). How to interpret the graphs you got? How are they related to the concept of overfitting/underfitting covered in class?\n",
    "<table><tr>\n",
    "    <td><img src=\"pics/pic3.png\" style=\"width: 300px;\"/> </td>\n",
    "    <td><img src=\"pics/pic4.png\" style=\"width: 300px;\"/> </td>\n",
    "</tr></table>"
   ]
  },
  {
   "cell_type": "code",
   "execution_count": 13,
   "metadata": {},
   "outputs": [
    {
     "data": {
      "image/png": "[encoded data removed]",
      "text/plain": [
       "<Figure size 1800x720 with 1 Axes>"
      ]
     },
     "metadata": {
      "needs_background": "light"
     },
     "output_type": "display_data"
    }
   ],
   "source": [
    "# Answer here\n",
    "# Accuracy\n",
    "plt.title('Training Accuracy per epoch')\n",
    "plt.xlabel('Epochs')\n",
    "plt.ylabel('Accuracy')\n",
    "plt.plot(training_log['epoch'], training_log['acc'], color = 'b', label = 'Train Accuracy')\n",
    "plt.plot(training_log['epoch'], training_log['val_acc'], color = 'r', label = 'Val Accuracy')\n",
    "plt.legend(loc = 'upper right')\n",
    "plt.show()"
   ]
  },
  {
   "cell_type": "code",
   "execution_count": 14,
   "metadata": {},
   "outputs": [
    {
     "data": {
      "image/png": "[encoded data removed]",
      "text/plain": [
       "<Figure size 1800x720 with 1 Axes>"
      ]
     },
     "metadata": {
      "needs_background": "light"
     },
     "output_type": "display_data"
    }
   ],
   "source": [
    "# Loss\n",
    "plt.title('Training Loss per epoch')\n",
    "plt.xlabel('Epochs')\n",
    "plt.ylabel('Loss')\n",
    "plt.plot(training_log['epoch'], training_log['loss'], color = 'b', label = 'Train Loss')\n",
    "plt.plot(training_log['epoch'], training_log['val_loss'], color = 'r', label = 'Val Loss')\n",
    "plt.legend(loc = 'upper right')\n",
    "plt.show()"
   ]
  },
  {
   "cell_type": "markdown",
   "metadata": {},
   "source": [
    "<u>**How to interpret the graphs you got?**</u>\n",
    "From the Training accuracy per epoch, we can tell that both graphs start off with the same accuracy. The **Val Accuracy** reached a plateau earlier than **Train Accuracy**. This shows that the model is not efficient beyond a certain number of epoch.\n",
    "The maximum accuracy obtainable for val and train is 0.7 and 0.9+. The model is learning the training data very well but not the testing data. \n",
    "\n",
    "<u>**How are they related to the concept of overfitting/underfitting covered in class?**</u>\n",
    "\n",
    "These graphs illustrates a clear sign of overfitting. From the Training Loss per epoch graph, it can be seen that the **Train Loss** is going down while the **Val Loss** is rising. It’s learning the training data really well but fails to generalize the knowledge to the test data.\n",
    "\n",
    "The two loss and accuracy starts out the same, but CV cost increases as training cost decreases. Since they started out the same, we know the model was equally poor at explaining the two data sets while in its untrained state."
   ]
  },
  {
   "cell_type": "markdown",
   "metadata": {},
   "source": [
    "---\n",
    "### **>>> Exercise 7 (Take home):**  \n",
    "\n",
    "Now, we have the word vectors, but our input data is a sequence of words (or say sentence). \n",
    "How can we utilize these \"word\" vectors to represent the sentence data and train our model?"
   ]
  },
  {
   "cell_type": "markdown",
   "metadata": {},
   "source": [
    "Firstly, the sequence of words could be converted into document-term matrix and create a word-vector dictionary to limit the dictionary to only have words from the training data.\n",
    "\n",
    "Alternatively, we could simply obtain the average of the word vectors in a sequence of words/sentence. However, this would mean that the context of words in the sentence is not being considered. "
   ]
  },
  {
   "cell_type": "markdown",
   "metadata": {},
   "source": [
    "**Exercise 8 Preprocessing**"
   ]
  },
  {
   "cell_type": "code",
   "execution_count": 15,
   "metadata": {},
   "outputs": [
    {
     "name": "stdout",
     "output_type": "stream",
     "text": [
      "load ok\n"
     ]
    }
   ],
   "source": [
    "from gensim.models import KeyedVectors\n",
    "\n",
    "## Note: this model is very huge, this will take some time ...\n",
    "model_path = \"GoogleNews/GoogleNews-vectors-negative300.bin.gz\"\n",
    "w2v_google_model = KeyedVectors.load_word2vec_format(model_path, binary=True)\n",
    "print('load ok')"
   ]
  },
  {
   "cell_type": "markdown",
   "metadata": {},
   "source": [
    "---\n",
    "### **>>> Exercise 8 (Take home):**  \n",
    "\n",
    "Generate a t-SNE visualization to show the 15 words most related to the words \"angry\", \"happy\", \"sad\", \"fear\" (60 words total).\n"
   ]
  },
  {
   "cell_type": "code",
   "execution_count": null,
   "metadata": {},
   "outputs": [],
   "source": [
    "word_list = ['angry', 'happy', 'sad', 'fear']\n",
    "topn = 15\n",
    "angry_words = ['angry'] + [word_ for word_, sim_ in w2v_google_model.most_similar('angry', topn=topn)]        \n",
    "happy_words = ['happy'] + [word_ for word_, sim_ in w2v_google_model.most_similar('happy', topn=topn)]\n",
    "sad_words = ['sad'] + [word_ for word_, sim_ in w2v_google_model.most_similar('sad', topn=topn)]        \n",
    "fear_words = ['fear'] + [word_ for word_, sim_ in w2v_google_model.most_similar('fear', topn=topn)]        \n",
    "target_words = angry_words + happy_words + sad_words + fear_words\n",
    "cn = topn + 1\n",
    "color = ['b'] * cn + ['g'] * cn + ['r'] * cn + ['y'] * cn"
   ]
  },
  {
   "cell_type": "code",
   "execution_count": null,
   "metadata": {},
   "outputs": [],
   "source": [
    "%matplotlib inline\n",
    "## w2v model\n",
    "model = w2v_google_model\n",
    "## prepare training word vectors\n",
    "size = 200\n",
    "target_size = len(target_words)\n",
    "all_word = list(model.vocab.keys())\n",
    "word_train = target_words + all_word[:size]\n",
    "X_train = model[word_train]\n",
    "## t-SNE model\n",
    "tsne = TSNE(n_components=2, metric='cosine', random_state=28)\n",
    "## training\n",
    "X_tsne = tsne.fit_transform(X_train)\n",
    "## plot the result\n",
    "plt.figure(figsize=(7.5, 7.5), dpi=115)\n",
    "plt.scatter(X_tsne[:target_size, 0], X_tsne[:target_size, 1], c=color)\n",
    "for label, x, y in zip(target_words, X_tsne[:target_size, 0], X_tsne[:target_size, 1]):\n",
    "    plt.annotate(label, xy=(x,y), xytext=(0,0),  textcoords='offset points')\n",
    "plt.show()"
   ]
  },
  {
   "cell_type": "markdown",
   "metadata": {},
   "source": [
    "## Part 2"
   ]
  },
  {
   "cell_type": "markdown",
   "metadata": {},
   "source": [
    "![Snapshot](img/pic0.png)"
   ]
  },
  {
   "cell_type": "markdown",
   "metadata": {},
   "source": [
    "## Part 3"
   ]
  },
  {
   "cell_type": "markdown",
   "metadata": {},
   "source": [
    "### Preprocessing steps"
   ]
  },
  {
   "cell_type": "code",
   "execution_count": 17,
   "metadata": {},
   "outputs": [],
   "source": [
    "#read in the datas\n",
    "data_identification = pd.read_csv(\"./kaggle_data/data_identification.csv\")\n",
    "emotion = pd.read_csv(\"./kaggle_data/emotion.csv\")\n",
    "sampleSubmission = pd.read_csv(\"./kaggle_data/sampleSubmission.csv\")\n",
    "raw_data = pd.read_json(\"./kaggle_data/tweets_DM.json\",\n",
    "                        lines=True,\n",
    "                        orient='columns')"
   ]
  },
  {
   "cell_type": "markdown",
   "metadata": {},
   "source": [
    "**File descriptions**\n",
    "\n",
    "tweets_DM.json - Raw data from Twitter\n",
    "\n",
    "emotion.csv - Lists the emotion labels per tweet_id\n",
    "\n",
    "data_identification.csv - A file that identifies membership of training or testing set per tweet_id. Note that you won´t be provided with the labels for the testing set, but you will have to predict for these when you make your submission.\n",
    "\n",
    "sampleSubmission.csv - A submission format you should follow for submitting to the competition"
   ]
  },
  {
   "cell_type": "code",
   "execution_count": 18,
   "metadata": {},
   "outputs": [],
   "source": [
    "provider = pd.DataFrame([md for md in raw_data._source])\n",
    "provider = pd.DataFrame([md for md in provider.tweet])\n",
    "provider['score'] = raw_data._score\n",
    "provider['crawldate'] = raw_data._crawldate\n",
    "provider['type'] = raw_data._type\n",
    "raw_data['_index'].drop_duplicates() \n",
    "## _index is useless\n",
    "##creating the training set\n",
    "train_df = pd.merge(data_identification,emotion)\n",
    "train_df = pd.merge(train_df,provider)\n",
    "##creating the testing set\n",
    "predi_df = data_identification.loc[data_identification['identification']=='test']\n",
    "predi_df = pd.merge(predi_df,provider)"
   ]
  },
  {
   "cell_type": "code",
   "execution_count": 19,
   "metadata": {},
   "outputs": [
    {
     "name": "stdout",
     "output_type": "stream",
     "text": [
      "0    tweets\n",
      "Name: type, dtype: object\n",
      "0    train\n",
      "Name: identification, dtype: object\n"
     ]
    }
   ],
   "source": [
    "## Split df with emotion into 7:3 ratio for checking the accuracy \n",
    "# check if there are cols that are not relevant, drop if they are not applicable \n",
    "print(train_df['type'].drop_duplicates())\n",
    "print(train_df['identification'].drop_duplicates())\n",
    "train_df = train_df.drop(columns = ['type', 'identification'])\n",
    "## random df first\n",
    "train_df.sample(frac = 1, random_state = 7)\n",
    "## split set to train and test and reset index\n",
    "test_df = train_df[int(train_df.shape[0]*0.7) :]\n",
    "train_df = train_df[: int(train_df.shape[0]*0.7)]\n",
    "test_df = test_df.reset_index()"
   ]
  },
  {
   "cell_type": "code",
   "execution_count": 20,
   "metadata": {},
   "outputs": [],
   "source": [
    "## save to pickle file, for speed\n",
    "train_df.to_pickle(\"train_df.pkl\") \n",
    "test_df.to_pickle(\"test_df.pkl\")\n",
    "predi_df.to_pickle(\"predi_df.pkl\")\n",
    "## load a pickle file\n",
    "train_df = pd.read_pickle(\"train_df.pkl\")\n",
    "test_df = pd.read_pickle(\"test_df.pkl\")\n",
    "predi_df = pd.read_pickle(\"predi_df.pkl\")"
   ]
  },
  {
   "cell_type": "markdown",
   "metadata": {},
   "source": [
    "### Feature engineering steps "
   ]
  },
  {
   "cell_type": "code",
   "execution_count": null,
   "metadata": {},
   "outputs": [],
   "source": [
    "# build analyzers (bag-of-words)\n",
    "BOW_vectorizer = CountVectorizer() \n",
    "# build analyzers (bag-of-words)\n",
    "BOW_500 = CountVectorizer(max_features=500, tokenizer=nltk.word_tokenize) \n",
    "# apply analyzer to training data\n",
    "BOW_500.fit(train_df['text']) # would changing this to the entire train set be better than the 70% of test set"
   ]
  },
  {
   "cell_type": "code",
   "execution_count": null,
   "metadata": {},
   "outputs": [],
   "source": [
    "# standardize name (X, y) \n",
    "X_train = BOW_500.transform(train_df['text'])\n",
    "y_train = train_df['emotion']"
   ]
  },
  {
   "cell_type": "code",
   "execution_count": null,
   "metadata": {},
   "outputs": [],
   "source": [
    "X_test = BOW_500.transform(test_df['text'])\n",
    "y_test = test_df['emotion']"
   ]
  },
  {
   "cell_type": "code",
   "execution_count": null,
   "metadata": {},
   "outputs": [],
   "source": [
    "## deal with label (string -> one-hot)\n",
    "\n",
    "from sklearn.preprocessing import LabelEncoder\n",
    "\n",
    "label_encoder = LabelEncoder()\n",
    "label_encoder.fit(y_train)\n",
    "print('check label: ', label_encoder.classes_)\n",
    "print('\\n## Before convert')\n",
    "print('y_train[0:4]:\\n', y_train[0:4])\n",
    "print('\\ny_train.shape: ', y_train.shape)\n",
    "print('y_test.shape: ', y_test.shape)\n",
    "\n",
    "def label_encode(le, labels):\n",
    "    enc = le.transform(labels)\n",
    "    return keras.utils.to_categorical(enc)\n",
    "\n",
    "def label_decode(le, one_hot_label):\n",
    "    dec = np.argmax(one_hot_label, axis=1)\n",
    "    return le.inverse_transform(dec)\n",
    "\n",
    "y_train = label_encode(label_encoder, y_train)\n",
    "y_test = label_encode(label_encoder, y_test)\n",
    "\n",
    "print('\\n\\n## After convert')\n",
    "print('y_train[0:4]:\\n', y_train[0:4])\n",
    "print('\\ny_train.shape: ', y_train.shape)\n",
    "print('y_test.shape: ', y_test.shape)"
   ]
  },
  {
   "cell_type": "code",
   "execution_count": null,
   "metadata": {},
   "outputs": [],
   "source": [
    "# I/O check\n",
    "input_shape = X_train.shape[1]\n",
    "print('input_shape: ', input_shape)\n",
    "\n",
    "output_shape = len(label_encoder.classes_)\n",
    "print('output_shape: ', output_shape)"
   ]
  },
  {
   "cell_type": "markdown",
   "metadata": {},
   "source": [
    "### Explanation of model"
   ]
  },
  {
   "cell_type": "code",
   "execution_count": null,
   "metadata": {},
   "outputs": [],
   "source": [
    "from keras.models import Model\n",
    "from keras.layers import Input, Dense\n",
    "from keras.layers import ReLU, Softmax\n",
    "\n",
    "# input layer\n",
    "model_input = Input(shape=(input_shape, ))  # 500\n",
    "X = model_input\n",
    "\n",
    "# 1st hidden layer\n",
    "X_W1 = Dense(units=64)(X)  # 64\n",
    "H1 = ReLU()(X_W1)\n",
    "\n",
    "# 2nd hidden layer\n",
    "H1_W2 = Dense(units=64)(H1)  # 64\n",
    "H2 = ReLU()(H1_W2)\n",
    "\n",
    "# output layer\n",
    "H2_W3 = Dense(units=output_shape)(H2)  # 4\n",
    "H3 = Softmax()(H2_W3)\n",
    "\n",
    "model_output = H3\n",
    "\n",
    "# create model\n",
    "model = Model(inputs=[model_input], outputs=[model_output])\n",
    "\n",
    "# loss function & optimizer\n",
    "model.compile(optimizer='adam',\n",
    "              loss='categorical_crossentropy',\n",
    "              metrics=['accuracy'])\n",
    "\n",
    "# show model construction\n",
    "model.summary()"
   ]
  },
  {
   "cell_type": "code",
   "execution_count": null,
   "metadata": {},
   "outputs": [],
   "source": [
    "## predict on training data\n",
    "pred_result = model.predict(X_test, batch_size=128)\n",
    "pred_result = label_decode(label_encoder, pred_result)\n",
    "print('testing accuracy: {}'.format(round(accuracy_score(label_decode(label_encoder, y_test), pred_result), 2)))"
   ]
  },
  {
   "cell_type": "code",
   "execution_count": null,
   "metadata": {},
   "outputs": [],
   "source": [
    "## predict on competition data\n",
    "X_submission = BOW_500.transform(predi_df['text'])\n",
    "pred_result = model.predict(X_submission, batch_size=128)\n",
    "pred_result = label_decode(label_encoder, pred_result)\n",
    "tmp_pred_result = pd.DataFrame(pred_result, columns=['emotion'])\n",
    "tmp_pred_result['id'] = predi_df['tweet_id']\n",
    "columnsTitles=[\"id\",\"emotion\"]\n",
    "tmp_pred_result=tmp_pred_result.reindex(columns=columnsTitles)\n",
    "tmp_pred_result.to_csv('submission.csv', index=False)"
   ]
  },
  {
   "cell_type": "markdown",
   "metadata": {},
   "source": [
    "### Different things you tried"
   ]
  },
  {
   "cell_type": "markdown",
   "metadata": {},
   "source": [
    "- I tried changing the model of the keras from the *Functional Model* to the *Sequential Model*\n",
    "- I tried changing the embedding from "
   ]
  },
  {
   "cell_type": "markdown",
   "metadata": {},
   "source": [
    "### Insights gained"
   ]
  },
  {
   "cell_type": "markdown",
   "metadata": {},
   "source": [
    "Initially i tried running the model on my machine (MBP without GPU and SSD **128GB**) but was unable to train out the model at all. The sheer size of w2v_google_model and the BOW500 made it impossible to run the encoding on my computer without running out of memory. \n",
    "\n",
    "- tried Google Colab \n",
    "  - Pros: Colab is able to link with Google drive\n",
    "  - Cons: It kept running out of time when i tried using a sequential model. Even after I used Keras's callback method after a few epochs, it was to no avail. \n",
    "- tried Kaggle notebook \n",
    "  - Pros: More familiar as the competition for this module is also on Kaggle\n",
    "  \n",
    "I have tried using glove 200d (Global Vectors for Word Representation) as the embedding but the accuracy did not improve compared to the google model. This would probably be because of the existence of emoticons within the tweets. The glove model do not take them into consideration. \n",
    "\n",
    "On hindsight, I should have considered other models and not just Neural networks"
   ]
  },
  {
   "cell_type": "markdown",
   "metadata": {},
   "source": [
    "## Part 4"
   ]
  },
  {
   "cell_type": "markdown",
   "metadata": {},
   "source": [
    "I utilised the jupyter notebook's table of contents extension and organised the homework according to its respective parts and sub parts. \n",
    "\n",
    "i also removed comments from cells that were copied over from lab2-master. When multiple comments were copied over, i merged them into a single cell to reduce cluster and improve readability. \n",
    "\n",
    "Variable names were given appropriately to represent the value/data they were containing. "
   ]
  },
  {
   "cell_type": "code",
   "execution_count": null,
   "metadata": {},
   "outputs": [],
   "source": []
  }
 ],
 "metadata": {
  "kernelspec": {
   "display_name": "Python 3",
   "language": "python",
   "name": "python3"
  },
  "language_info": {
   "codemirror_mode": {
    "name": "ipython",
    "version": 3
   },
   "file_extension": ".py",
   "mimetype": "text/x-python",
   "name": "python",
   "nbconvert_exporter": "python",
   "pygments_lexer": "ipython3",
   "version": "3.7.5"
  },
  "toc": {
   "base_numbering": 1,
   "nav_menu": {},
   "number_sections": false,
   "sideBar": true,
   "skip_h1_title": false,
   "title_cell": "Table of Contents",
   "title_sidebar": "Contents",
   "toc_cell": true,
   "toc_position": {
    "height": "calc(100% - 180px)",
    "left": "10px",
    "top": "150px",
    "width": "336px"
   },
   "toc_section_display": true,
   "toc_window_display": true
  },
  "varInspector": {
   "cols": {
    "lenName": 16,
    "lenType": 16,
    "lenVar": 40
   },
   "kernels_config": {
    "python": {
     "delete_cmd_postfix": "",
     "delete_cmd_prefix": "del ",
     "library": "var_list.py",
     "varRefreshCmd": "print(var_dic_list())"
    },
    "r": {
     "delete_cmd_postfix": ") ",
     "delete_cmd_prefix": "rm(",
     "library": "var_list.r",
     "varRefreshCmd": "cat(var_dic_list()) "
    }
   },
   "types_to_exclude": [
    "module",
    "function",
    "builtin_function_or_method",
    "instance",
    "_Feature"
   ],
   "window_display": false
  }
 },
 "nbformat": 4,
 "nbformat_minor": 2
}
